{
 "cells": [
  {
   "cell_type": "code",
   "execution_count": 1,
   "metadata": {
    "collapsed": true,
    "execution": {
     "iopub.execute_input": "2021-07-13T02:57:19.958Z",
     "iopub.status.busy": "2021-07-13T02:57:19.578Z",
     "iopub.status.idle": "2021-07-13T02:57:23.608Z",
     "shell.execute_reply": "2021-06-15T20:13:58.233Z"
    },
    "jupyter": {
     "outputs_hidden": false,
     "source_hidden": false
    },
    "nteract": {
     "transient": {
      "deleting": false
     }
    }
   },
   "outputs": [],
   "source": [
    "using Random\n",
    "using Distributions\n",
    "using FFTW\n",
    "using LinearAlgebra \n",
    "using Arpack \n",
    "using Plots"
   ]
  },
  {
   "cell_type": "code",
   "execution_count": 2,
   "metadata": {
    "collapsed": true,
    "execution": {
     "iopub.execute_input": "2021-07-13T02:57:25.001Z",
     "iopub.status.busy": "2021-07-13T02:57:23.625Z",
     "iopub.status.idle": "2021-07-13T02:57:25.049Z"
    },
    "jupyter": {
     "outputs_hidden": false,
     "source_hidden": false
    },
    "nteract": {
     "transient": {
      "deleting": false
     }
    }
   },
   "outputs": [],
   "source": [
    "#L=100; #system size\n",
    "W=[]; #disorder strenght\n",
    "sigma=0.2; \n",
    "theta=0.5;  #the twist\n",
    "Nreal=200;  #number of samples\n",
    "\n",
    "seeds=rand(1:100000,Nreal); #random seeds\n",
    "\n",
    "#dis = Normal(-0.1, W);\n",
    "#Normal{Float64}(μ=0.16, σ=W)\n",
    "\n",
    "#td = truncated(dis, 0.0, Inf)\n",
    "#Truncated(Normal{Float64}(μ=0.0, σ=W), range=(0.0, Inf))\n",
    "\n",
    "tk(n,sig,ll,th)=-sign(cos(2.0*pi*n/ll+th/ll))*abs(cos(2.0*pi*n/ll+th/ll))^sig; #k-space Hamiltonian\n"
   ]
  },
  {
   "cell_type": "code",
   "execution_count": 3,
   "metadata": {
    "collapsed": true,
    "execution": {
     "iopub.execute_input": "2021-07-13T02:57:26.343Z",
     "iopub.status.busy": "2021-07-13T02:57:26.338Z",
     "iopub.status.idle": "2021-07-13T09:59:25.966Z"
    },
    "jupyter": {
     "outputs_hidden": false,
     "source_hidden": false
    },
    "nteract": {
     "transient": {
      "deleting": false
     }
    }
   },
   "outputs": [],
   "source": [
    "#L=100; #system size\n",
    "IPR=[float,Nreal,0];\n",
    "IPRa=[];     #average participation ratio \n",
    "IPRm=[];     #array of maximum IPRs for different system sizes\n",
    "IPRmin=[];   #array of indeces of maximum IPRs for different system sizes\n",
    "w=0.0;\n",
    "ws=0.05; #increament of disorder strength at each loop \n",
    "wm=1.0;  #maximum disorder strength\n",
    "\n",
    "IPRA=[float,Int(floor(wm/ws)),0];\n",
    "\n",
    "\n",
    "for n in 1:Int(floor(wm/ws))   #loop for creating array of different disorder strengths\n",
    "    w=w+n*ws\n",
    "    W=append!(W,w)   \n",
    "end \n",
    "\n",
    "for m in 1:10 #loop for different system sizes \n",
    "  \n",
    "  L=100*m;\n",
    "\n",
    "  for dn in 1:Int(floor(wm/ws))    #loop for different disorder strengths\n",
    "\n",
    "    dis=Normal(-0.1, W[dn]);\n",
    "\n",
    "    En=[];\n",
    "    ipr=[];\n",
    "    Evec=[float,L,0];\n",
    "\n",
    "    for ireal in 1:Nreal \n",
    "        Random.seed!(seeds[ireal]) #setting the seed\n",
    "        Vx=rand(dis,L);    #generating random potential according to normal distribution\n",
    "        Vk=fft(Vx);        #Fourier transform of random potential\n",
    "        Vk=fftshift(Vk);   #moving the zero potential to the center of the spectrum\n",
    "\n",
    "\n",
    "        Ham=zeros(Complex{Float64},L,L);          #initializing the Hamiltonian matrix with zeros\n",
    "        vecs=zeros(Complex{Float64},L,L);         #initializaing the eigenvectors with zeros\n",
    "        for i in 1:L                              #compute k-space Hamiltonian for L allowed k values\n",
    "            Ham[i,i]=tk(i,sigma,L,theta);  \n",
    "           for j in i+1:L       \n",
    "                 Ham[j,i] = Vk[j-i] ; \n",
    "                 Ham[i,j] = conj(Vk[j-i]);\n",
    "            end    \n",
    "        end\n",
    "\n",
    "\n",
    "        en0, evec0=eigs(Ham,nev=1,which=:SM);\n",
    "        evec1=fft(evec0);\n",
    "        ipr0=sum((abs.(evec1).^2).^2)/(sum(abs.(evec1).^2))^2;\n",
    "        En=append!(En,en0);\n",
    "        ipr=append!(ipr,ipr0);\n",
    "        if ireal==1\n",
    "            Evec=evec1\n",
    "            else\n",
    "                Evec=hcat(Evec,evec1);\n",
    "        end\n",
    "\n",
    "    end ## end loop over ireal\n",
    "\n",
    "      #creating array of inverse participation ratios, each column is IPR of each increament of disorder strength\n",
    "      if dn==1\n",
    "         IPR=ipr \n",
    "         else\n",
    "             IPR=hcat(IPR,ipr);\n",
    "      end  \n",
    "\n",
    "      IPRa0=sum(ipr)/Nreal;          #average inverse participation ratio at each step \n",
    "      IPRa=append!(IPRa,IPRa0);       #creating array of average inverse participation ratios  \n",
    "\n",
    "\n",
    "  end           ##end loop over dn\n",
    "\n",
    "  IPRmx=maximum(IPRa);\n",
    "  IPRm=append!(IPRm,IPRmx);\n",
    "  IPRmin=append!(IPRmin,argmax(IPRa));\n",
    "\n",
    "  if m==1\n",
    "    IPRA=IPRa;\n",
    "    else\n",
    "      IPRA=hcat(IPRA,IPRa);\n",
    "  end\n",
    "\n",
    "  empty!(IPRa);    #clear the array of average IPR for different disorder strengths \n",
    "\n",
    "end     ## end loop over m \n",
    "  "
   ]
  },
  {
   "cell_type": "code",
   "execution_count": 4,
   "metadata": {
    "collapsed": true,
    "execution": {
     "iopub.execute_input": "2021-07-13T14:07:40.573Z",
     "iopub.status.busy": "2021-07-13T14:07:40.556Z",
     "iopub.status.idle": "2021-07-13T14:07:47.836Z"
    },
    "jupyter": {
     "outputs_hidden": false,
     "source_hidden": false
    },
    "nteract": {
     "transient": {
      "deleting": false
     }
    }
   },
   "outputs": [
    {
     "data": {
      "image/svg+xml": [
       "<?xml version=\"1.0\" encoding=\"utf-8\"?>\n",
       "<svg xmlns=\"http://www.w3.org/2000/svg\" xmlns:xlink=\"http://www.w3.org/1999/xlink\" width=\"600\" height=\"400\" viewBox=\"0 0 2400 1600\">\n",
       "<defs>\n",
       "  <clipPath id=\"clip880\">\n",
       "    <rect x=\"0\" y=\"0\" width=\"2400\" height=\"1600\"/>\n",
       "  </clipPath>\n",
       "</defs>\n",
       "<path clip-path=\"url(#clip880)\" d=\"\n",
       "M0 1600 L2400 1600 L2400 0 L0 0  Z\n",
       "  \" fill=\"#ffffff\" fill-rule=\"evenodd\" fill-opacity=\"1\"/>\n",
       "<defs>\n",
       "  <clipPath id=\"clip881\">\n",
       "    <rect x=\"480\" y=\"0\" width=\"1681\" height=\"1600\"/>\n",
       "  </clipPath>\n",
       "</defs>\n",
       "<path clip-path=\"url(#clip880)\" d=\"\n",
       "M186.76 1486.45 L2352.76 1486.45 L2352.76 47.2441 L186.76 47.2441  Z\n",
       "  \" fill=\"#ffffff\" fill-rule=\"evenodd\" fill-opacity=\"1\"/>\n",
       "<defs>\n",
       "  <clipPath id=\"clip882\">\n",
       "    <rect x=\"186\" y=\"47\" width=\"2167\" height=\"1440\"/>\n",
       "  </clipPath>\n",
       "</defs>\n",
       "<polyline clip-path=\"url(#clip882)\" style=\"stroke:#000000; stroke-linecap:butt; stroke-linejoin:round; stroke-width:2; stroke-opacity:0.1; fill:none\" points=\"\n",
       "  475.105,1486.45 475.105,47.2441 \n",
       "  \"/>\n",
       "<polyline clip-path=\"url(#clip882)\" style=\"stroke:#000000; stroke-linecap:butt; stroke-linejoin:round; stroke-width:2; stroke-opacity:0.1; fill:none\" points=\"\n",
       "  929.193,1486.45 929.193,47.2441 \n",
       "  \"/>\n",
       "<polyline clip-path=\"url(#clip882)\" style=\"stroke:#000000; stroke-linecap:butt; stroke-linejoin:round; stroke-width:2; stroke-opacity:0.1; fill:none\" points=\"\n",
       "  1383.28,1486.45 1383.28,47.2441 \n",
       "  \"/>\n",
       "<polyline clip-path=\"url(#clip882)\" style=\"stroke:#000000; stroke-linecap:butt; stroke-linejoin:round; stroke-width:2; stroke-opacity:0.1; fill:none\" points=\"\n",
       "  1837.37,1486.45 1837.37,47.2441 \n",
       "  \"/>\n",
       "<polyline clip-path=\"url(#clip882)\" style=\"stroke:#000000; stroke-linecap:butt; stroke-linejoin:round; stroke-width:2; stroke-opacity:0.1; fill:none\" points=\"\n",
       "  2291.45,1486.45 2291.45,47.2441 \n",
       "  \"/>\n",
       "<polyline clip-path=\"url(#clip880)\" style=\"stroke:#000000; stroke-linecap:butt; stroke-linejoin:round; stroke-width:4; stroke-opacity:1; fill:none\" points=\"\n",
       "  186.76,1486.45 2352.76,1486.45 \n",
       "  \"/>\n",
       "<polyline clip-path=\"url(#clip880)\" style=\"stroke:#000000; stroke-linecap:butt; stroke-linejoin:round; stroke-width:4; stroke-opacity:1; fill:none\" points=\"\n",
       "  475.105,1486.45 475.105,1469.18 \n",
       "  \"/>\n",
       "<polyline clip-path=\"url(#clip880)\" style=\"stroke:#000000; stroke-linecap:butt; stroke-linejoin:round; stroke-width:4; stroke-opacity:1; fill:none\" points=\"\n",
       "  929.193,1486.45 929.193,1469.18 \n",
       "  \"/>\n",
       "<polyline clip-path=\"url(#clip880)\" style=\"stroke:#000000; stroke-linecap:butt; stroke-linejoin:round; stroke-width:4; stroke-opacity:1; fill:none\" points=\"\n",
       "  1383.28,1486.45 1383.28,1469.18 \n",
       "  \"/>\n",
       "<polyline clip-path=\"url(#clip880)\" style=\"stroke:#000000; stroke-linecap:butt; stroke-linejoin:round; stroke-width:4; stroke-opacity:1; fill:none\" points=\"\n",
       "  1837.37,1486.45 1837.37,1469.18 \n",
       "  \"/>\n",
       "<polyline clip-path=\"url(#clip880)\" style=\"stroke:#000000; stroke-linecap:butt; stroke-linejoin:round; stroke-width:4; stroke-opacity:1; fill:none\" points=\"\n",
       "  2291.45,1486.45 2291.45,1469.18 \n",
       "  \"/>\n",
       "<path clip-path=\"url(#clip880)\" d=\"M469.758 1543.18 L486.078 1543.18 L486.078 1547.12 L464.133 1547.12 L464.133 1543.18 Q466.795 1540.43 471.379 1535.8 Q475.985 1531.15 477.166 1529.81 Q479.411 1527.28 480.291 1525.55 Q481.193 1523.79 481.193 1522.1 Q481.193 1519.34 479.249 1517.61 Q477.328 1515.87 474.226 1515.87 Q472.027 1515.87 469.573 1516.63 Q467.143 1517.4 464.365 1518.95 L464.365 1514.23 Q467.189 1513.09 469.643 1512.51 Q472.096 1511.93 474.133 1511.93 Q479.504 1511.93 482.698 1514.62 Q485.892 1517.31 485.892 1521.8 Q485.892 1523.93 485.082 1525.85 Q484.295 1527.74 482.189 1530.34 Q481.61 1531.01 478.508 1534.23 Q475.406 1537.42 469.758 1543.18 Z\" fill=\"#000000\" fill-rule=\"evenodd\" fill-opacity=\"1\" /><path clip-path=\"url(#clip880)\" d=\"M932.202 1516.63 L920.396 1535.08 L932.202 1535.08 L932.202 1516.63 M930.975 1512.56 L936.855 1512.56 L936.855 1535.08 L941.785 1535.08 L941.785 1538.97 L936.855 1538.97 L936.855 1547.12 L932.202 1547.12 L932.202 1538.97 L916.6 1538.97 L916.6 1534.46 L930.975 1512.56 Z\" fill=\"#000000\" fill-rule=\"evenodd\" fill-opacity=\"1\" /><path clip-path=\"url(#clip880)\" d=\"M1383.68 1527.98 Q1380.54 1527.98 1378.68 1530.13 Q1376.86 1532.28 1376.86 1536.03 Q1376.86 1539.76 1378.68 1541.93 Q1380.54 1544.09 1383.68 1544.09 Q1386.83 1544.09 1388.66 1541.93 Q1390.51 1539.76 1390.51 1536.03 Q1390.51 1532.28 1388.66 1530.13 Q1386.83 1527.98 1383.68 1527.98 M1392.97 1513.32 L1392.97 1517.58 Q1391.21 1516.75 1389.4 1516.31 Q1387.62 1515.87 1385.86 1515.87 Q1381.23 1515.87 1378.78 1519 Q1376.35 1522.12 1376 1528.44 Q1377.37 1526.43 1379.43 1525.36 Q1381.49 1524.27 1383.96 1524.27 Q1389.17 1524.27 1392.18 1527.44 Q1395.21 1530.59 1395.21 1536.03 Q1395.21 1541.36 1392.06 1544.57 Q1388.92 1547.79 1383.68 1547.79 Q1377.69 1547.79 1374.52 1543.21 Q1371.35 1538.6 1371.35 1529.87 Q1371.35 1521.68 1375.24 1516.82 Q1379.12 1511.93 1385.68 1511.93 Q1387.43 1511.93 1389.22 1512.28 Q1391.02 1512.63 1392.97 1513.32 Z\" fill=\"#000000\" fill-rule=\"evenodd\" fill-opacity=\"1\" /><path clip-path=\"url(#clip880)\" d=\"M1837.37 1530.71 Q1834.03 1530.71 1832.11 1532.49 Q1830.21 1534.27 1830.21 1537.4 Q1830.21 1540.52 1832.11 1542.31 Q1834.03 1544.09 1837.37 1544.09 Q1840.7 1544.09 1842.62 1542.31 Q1844.54 1540.5 1844.54 1537.4 Q1844.54 1534.27 1842.62 1532.49 Q1840.72 1530.71 1837.37 1530.71 M1832.69 1528.72 Q1829.68 1527.98 1827.99 1525.92 Q1826.33 1523.86 1826.33 1520.89 Q1826.33 1516.75 1829.27 1514.34 Q1832.23 1511.93 1837.37 1511.93 Q1842.53 1511.93 1845.47 1514.34 Q1848.41 1516.75 1848.41 1520.89 Q1848.41 1523.86 1846.72 1525.92 Q1845.05 1527.98 1842.07 1528.72 Q1845.45 1529.5 1847.32 1531.8 Q1849.22 1534.09 1849.22 1537.4 Q1849.22 1542.42 1846.14 1545.11 Q1843.08 1547.79 1837.37 1547.79 Q1831.65 1547.79 1828.57 1545.11 Q1825.52 1542.42 1825.52 1537.4 Q1825.52 1534.09 1827.41 1531.8 Q1829.31 1529.5 1832.69 1528.72 M1830.98 1521.33 Q1830.98 1524.02 1832.64 1525.52 Q1834.33 1527.03 1837.37 1527.03 Q1840.38 1527.03 1842.07 1525.52 Q1843.78 1524.02 1843.78 1521.33 Q1843.78 1518.65 1842.07 1517.14 Q1840.38 1515.64 1837.37 1515.64 Q1834.33 1515.64 1832.64 1517.14 Q1830.98 1518.65 1830.98 1521.33 Z\" fill=\"#000000\" fill-rule=\"evenodd\" fill-opacity=\"1\" /><path clip-path=\"url(#clip880)\" d=\"M2266.14 1543.18 L2273.78 1543.18 L2273.78 1516.82 L2265.47 1518.49 L2265.47 1514.23 L2273.73 1512.56 L2278.41 1512.56 L2278.41 1543.18 L2286.05 1543.18 L2286.05 1547.12 L2266.14 1547.12 L2266.14 1543.18 Z\" fill=\"#000000\" fill-rule=\"evenodd\" fill-opacity=\"1\" /><path clip-path=\"url(#clip880)\" d=\"M2305.49 1515.64 Q2301.88 1515.64 2300.05 1519.2 Q2298.25 1522.75 2298.25 1529.87 Q2298.25 1536.98 2300.05 1540.55 Q2301.88 1544.09 2305.49 1544.09 Q2309.13 1544.09 2310.93 1540.55 Q2312.76 1536.98 2312.76 1529.87 Q2312.76 1522.75 2310.93 1519.2 Q2309.13 1515.64 2305.49 1515.64 M2305.49 1511.93 Q2311.3 1511.93 2314.36 1516.54 Q2317.44 1521.12 2317.44 1529.87 Q2317.44 1538.6 2314.36 1543.21 Q2311.3 1547.79 2305.49 1547.79 Q2299.68 1547.79 2296.6 1543.21 Q2293.55 1538.6 2293.55 1529.87 Q2293.55 1521.12 2296.6 1516.54 Q2299.68 1511.93 2305.49 1511.93 Z\" fill=\"#000000\" fill-rule=\"evenodd\" fill-opacity=\"1\" /><polyline clip-path=\"url(#clip882)\" style=\"stroke:#000000; stroke-linecap:butt; stroke-linejoin:round; stroke-width:2; stroke-opacity:0.1; fill:none\" points=\"\n",
       "  186.76,1484.24 2352.76,1484.24 \n",
       "  \"/>\n",
       "<polyline clip-path=\"url(#clip882)\" style=\"stroke:#000000; stroke-linecap:butt; stroke-linejoin:round; stroke-width:2; stroke-opacity:0.1; fill:none\" points=\"\n",
       "  186.76,1042.23 2352.76,1042.23 \n",
       "  \"/>\n",
       "<polyline clip-path=\"url(#clip882)\" style=\"stroke:#000000; stroke-linecap:butt; stroke-linejoin:round; stroke-width:2; stroke-opacity:0.1; fill:none\" points=\"\n",
       "  186.76,600.222 2352.76,600.222 \n",
       "  \"/>\n",
       "<polyline clip-path=\"url(#clip882)\" style=\"stroke:#000000; stroke-linecap:butt; stroke-linejoin:round; stroke-width:2; stroke-opacity:0.1; fill:none\" points=\"\n",
       "  186.76,158.211 2352.76,158.211 \n",
       "  \"/>\n",
       "<polyline clip-path=\"url(#clip880)\" style=\"stroke:#000000; stroke-linecap:butt; stroke-linejoin:round; stroke-width:4; stroke-opacity:1; fill:none\" points=\"\n",
       "  186.76,1486.45 186.76,47.2441 \n",
       "  \"/>\n",
       "<polyline clip-path=\"url(#clip880)\" style=\"stroke:#000000; stroke-linecap:butt; stroke-linejoin:round; stroke-width:4; stroke-opacity:1; fill:none\" points=\"\n",
       "  186.76,1484.24 212.752,1484.24 \n",
       "  \"/>\n",
       "<polyline clip-path=\"url(#clip880)\" style=\"stroke:#000000; stroke-linecap:butt; stroke-linejoin:round; stroke-width:4; stroke-opacity:1; fill:none\" points=\"\n",
       "  186.76,1042.23 212.752,1042.23 \n",
       "  \"/>\n",
       "<polyline clip-path=\"url(#clip880)\" style=\"stroke:#000000; stroke-linecap:butt; stroke-linejoin:round; stroke-width:4; stroke-opacity:1; fill:none\" points=\"\n",
       "  186.76,600.222 212.752,600.222 \n",
       "  \"/>\n",
       "<polyline clip-path=\"url(#clip880)\" style=\"stroke:#000000; stroke-linecap:butt; stroke-linejoin:round; stroke-width:4; stroke-opacity:1; fill:none\" points=\"\n",
       "  186.76,158.211 212.752,158.211 \n",
       "  \"/>\n",
       "<path clip-path=\"url(#clip880)\" d=\"M64.6495 1470.04 Q61.0384 1470.04 59.2097 1473.61 Q57.4041 1477.15 57.4041 1484.28 Q57.4041 1491.39 59.2097 1494.95 Q61.0384 1498.49 64.6495 1498.49 Q68.2837 1498.49 70.0892 1494.95 Q71.9179 1491.39 71.9179 1484.28 Q71.9179 1477.15 70.0892 1473.61 Q68.2837 1470.04 64.6495 1470.04 M64.6495 1466.34 Q70.4596 1466.34 73.5152 1470.95 Q76.5938 1475.53 76.5938 1484.28 Q76.5938 1493.01 73.5152 1497.61 Q70.4596 1502.2 64.6495 1502.2 Q58.8393 1502.2 55.7606 1497.61 Q52.7051 1493.01 52.7051 1484.28 Q52.7051 1475.53 55.7606 1470.95 Q58.8393 1466.34 64.6495 1466.34 Z\" fill=\"#000000\" fill-rule=\"evenodd\" fill-opacity=\"1\" /><path clip-path=\"url(#clip880)\" d=\"M84.8114 1495.64 L89.6956 1495.64 L89.6956 1501.52 L84.8114 1501.52 L84.8114 1495.64 Z\" fill=\"#000000\" fill-rule=\"evenodd\" fill-opacity=\"1\" /><path clip-path=\"url(#clip880)\" d=\"M103.909 1497.59 L120.228 1497.59 L120.228 1501.52 L98.2835 1501.52 L98.2835 1497.59 Q100.946 1494.83 105.529 1490.21 Q110.135 1485.55 111.316 1484.21 Q113.561 1481.69 114.441 1479.95 Q115.344 1478.19 115.344 1476.5 Q115.344 1473.75 113.399 1472.01 Q111.478 1470.27 108.376 1470.27 Q106.177 1470.27 103.723 1471.04 Q101.293 1471.8 98.515 1473.35 L98.515 1468.63 Q101.339 1467.5 103.793 1466.92 Q106.246 1466.34 108.283 1466.34 Q113.654 1466.34 116.848 1469.02 Q120.043 1471.71 120.043 1476.2 Q120.043 1478.33 119.233 1480.25 Q118.445 1482.15 116.339 1484.74 Q115.76 1485.41 112.658 1488.63 Q109.557 1491.83 103.909 1497.59 Z\" fill=\"#000000\" fill-rule=\"evenodd\" fill-opacity=\"1\" /><path clip-path=\"url(#clip880)\" d=\"M130.853 1497.59 L138.492 1497.59 L138.492 1471.22 L130.182 1472.89 L130.182 1468.63 L138.445 1466.96 L143.121 1466.96 L143.121 1497.59 L150.76 1497.59 L150.76 1501.52 L130.853 1501.52 L130.853 1497.59 Z\" fill=\"#000000\" fill-rule=\"evenodd\" fill-opacity=\"1\" /><path clip-path=\"url(#clip880)\" d=\"M65.0198 1028.03 Q61.4087 1028.03 59.58 1031.6 Q57.7745 1035.14 57.7745 1042.27 Q57.7745 1049.37 59.58 1052.94 Q61.4087 1056.48 65.0198 1056.48 Q68.6541 1056.48 70.4596 1052.94 Q72.2883 1049.37 72.2883 1042.27 Q72.2883 1035.14 70.4596 1031.6 Q68.6541 1028.03 65.0198 1028.03 M65.0198 1024.33 Q70.83 1024.33 73.8855 1028.93 Q76.9642 1033.52 76.9642 1042.27 Q76.9642 1050.99 73.8855 1055.6 Q70.83 1060.18 65.0198 1060.18 Q59.2097 1060.18 56.131 1055.6 Q53.0754 1050.99 53.0754 1042.27 Q53.0754 1033.52 56.131 1028.93 Q59.2097 1024.33 65.0198 1024.33 Z\" fill=\"#000000\" fill-rule=\"evenodd\" fill-opacity=\"1\" /><path clip-path=\"url(#clip880)\" d=\"M85.1818 1053.63 L90.066 1053.63 L90.066 1059.51 L85.1818 1059.51 L85.1818 1053.63 Z\" fill=\"#000000\" fill-rule=\"evenodd\" fill-opacity=\"1\" /><path clip-path=\"url(#clip880)\" d=\"M104.279 1055.58 L120.598 1055.58 L120.598 1059.51 L98.6539 1059.51 L98.6539 1055.58 Q101.316 1052.82 105.899 1048.19 Q110.506 1043.54 111.686 1042.2 Q113.932 1039.68 114.811 1037.94 Q115.714 1036.18 115.714 1034.49 Q115.714 1031.74 113.77 1030 Q111.848 1028.26 108.746 1028.26 Q106.547 1028.26 104.094 1029.03 Q101.663 1029.79 98.8854 1031.34 L98.8854 1026.62 Q101.709 1025.49 104.163 1024.91 Q106.617 1024.33 108.654 1024.33 Q114.024 1024.33 117.219 1027.01 Q120.413 1029.7 120.413 1034.19 Q120.413 1036.32 119.603 1038.24 Q118.816 1040.14 116.709 1042.73 Q116.131 1043.4 113.029 1046.62 Q109.927 1049.81 104.279 1055.58 Z\" fill=\"#000000\" fill-rule=\"evenodd\" fill-opacity=\"1\" /><path clip-path=\"url(#clip880)\" d=\"M134.441 1055.58 L150.76 1055.58 L150.76 1059.51 L128.816 1059.51 L128.816 1055.58 Q131.478 1052.82 136.061 1048.19 Q140.668 1043.54 141.848 1042.2 Q144.093 1039.68 144.973 1037.94 Q145.876 1036.18 145.876 1034.49 Q145.876 1031.74 143.931 1030 Q142.01 1028.26 138.908 1028.26 Q136.709 1028.26 134.256 1029.03 Q131.825 1029.79 129.047 1031.34 L129.047 1026.62 Q131.871 1025.49 134.325 1024.91 Q136.779 1024.33 138.816 1024.33 Q144.186 1024.33 147.38 1027.01 Q150.575 1029.7 150.575 1034.19 Q150.575 1036.32 149.765 1038.24 Q148.978 1040.14 146.871 1042.73 Q146.293 1043.4 143.191 1046.62 Q140.089 1049.81 134.441 1055.58 Z\" fill=\"#000000\" fill-rule=\"evenodd\" fill-opacity=\"1\" /><path clip-path=\"url(#clip880)\" d=\"M64.0708 586.021 Q60.4597 586.021 58.631 589.586 Q56.8254 593.127 56.8254 600.257 Q56.8254 607.364 58.631 610.928 Q60.4597 614.47 64.0708 614.47 Q67.705 614.47 69.5105 610.928 Q71.3392 607.364 71.3392 600.257 Q71.3392 593.127 69.5105 589.586 Q67.705 586.021 64.0708 586.021 M64.0708 582.317 Q69.8809 582.317 72.9365 586.924 Q76.0151 591.507 76.0151 600.257 Q76.0151 608.984 72.9365 613.59 Q69.8809 618.174 64.0708 618.174 Q58.2606 618.174 55.1819 613.59 Q52.1264 608.984 52.1264 600.257 Q52.1264 591.507 55.1819 586.924 Q58.2606 582.317 64.0708 582.317 Z\" fill=\"#000000\" fill-rule=\"evenodd\" fill-opacity=\"1\" /><path clip-path=\"url(#clip880)\" d=\"M84.2327 611.623 L89.1169 611.623 L89.1169 617.502 L84.2327 617.502 L84.2327 611.623 Z\" fill=\"#000000\" fill-rule=\"evenodd\" fill-opacity=\"1\" /><path clip-path=\"url(#clip880)\" d=\"M103.33 613.567 L119.649 613.567 L119.649 617.502 L97.7048 617.502 L97.7048 613.567 Q100.367 610.813 104.95 606.183 Q109.557 601.53 110.737 600.188 Q112.983 597.664 113.862 595.928 Q114.765 594.169 114.765 592.479 Q114.765 589.725 112.82 587.989 Q110.899 586.253 107.797 586.253 Q105.598 586.253 103.145 587.016 Q100.714 587.78 97.9363 589.331 L97.9363 584.609 Q100.76 583.475 103.214 582.896 Q105.668 582.317 107.705 582.317 Q113.075 582.317 116.27 585.003 Q119.464 587.688 119.464 592.178 Q119.464 594.308 118.654 596.229 Q117.867 598.127 115.76 600.72 Q115.182 601.391 112.08 604.609 Q108.978 607.803 103.33 613.567 Z\" fill=\"#000000\" fill-rule=\"evenodd\" fill-opacity=\"1\" /><path clip-path=\"url(#clip880)\" d=\"M143.631 598.868 Q146.987 599.586 148.862 601.854 Q150.76 604.123 150.76 607.456 Q150.76 612.572 147.242 615.373 Q143.723 618.174 137.242 618.174 Q135.066 618.174 132.751 617.734 Q130.459 617.317 128.006 616.461 L128.006 611.947 Q129.95 613.081 132.265 613.66 Q134.58 614.238 137.103 614.238 Q141.501 614.238 143.793 612.502 Q146.107 610.766 146.107 607.456 Q146.107 604.401 143.955 602.688 Q141.825 600.952 138.006 600.952 L133.978 600.952 L133.978 597.109 L138.191 597.109 Q141.64 597.109 143.468 595.743 Q145.297 594.354 145.297 591.762 Q145.297 589.1 143.399 587.688 Q141.524 586.253 138.006 586.253 Q136.084 586.253 133.885 586.669 Q131.686 587.086 129.047 587.965 L129.047 583.799 Q131.709 583.058 134.024 582.688 Q136.362 582.317 138.422 582.317 Q143.746 582.317 146.848 584.748 Q149.95 587.155 149.95 591.276 Q149.95 594.146 148.306 596.137 Q146.663 598.104 143.631 598.868 Z\" fill=\"#000000\" fill-rule=\"evenodd\" fill-opacity=\"1\" /><path clip-path=\"url(#clip880)\" d=\"M62.9365 144.01 Q59.3254 144.01 57.4967 147.575 Q55.6912 151.116 55.6912 158.246 Q55.6912 165.352 57.4967 168.917 Q59.3254 172.459 62.9365 172.459 Q66.5707 172.459 68.3763 168.917 Q70.205 165.352 70.205 158.246 Q70.205 151.116 68.3763 147.575 Q66.5707 144.01 62.9365 144.01 M62.9365 140.306 Q68.7467 140.306 71.8022 144.913 Q74.8809 149.496 74.8809 158.246 Q74.8809 166.973 71.8022 171.579 Q68.7467 176.163 62.9365 176.163 Q57.1264 176.163 54.0477 171.579 Q50.9921 166.973 50.9921 158.246 Q50.9921 149.496 54.0477 144.913 Q57.1264 140.306 62.9365 140.306 Z\" fill=\"#000000\" fill-rule=\"evenodd\" fill-opacity=\"1\" /><path clip-path=\"url(#clip880)\" d=\"M83.0984 169.612 L87.9827 169.612 L87.9827 175.491 L83.0984 175.491 L83.0984 169.612 Z\" fill=\"#000000\" fill-rule=\"evenodd\" fill-opacity=\"1\" /><path clip-path=\"url(#clip880)\" d=\"M102.196 171.556 L118.515 171.556 L118.515 175.491 L96.5706 175.491 L96.5706 171.556 Q99.2326 168.801 103.816 164.172 Q108.422 159.519 109.603 158.177 Q111.848 155.653 112.728 153.917 Q113.631 152.158 113.631 150.468 Q113.631 147.714 111.686 145.978 Q109.765 144.241 106.663 144.241 Q104.464 144.241 102.01 145.005 Q99.5798 145.769 96.8021 147.32 L96.8021 142.598 Q99.6261 141.464 102.08 140.885 Q104.534 140.306 106.571 140.306 Q111.941 140.306 115.135 142.991 Q118.33 145.677 118.33 150.167 Q118.33 152.297 117.52 154.218 Q116.733 156.116 114.626 158.709 Q114.047 159.38 110.946 162.598 Q107.844 165.792 102.196 171.556 Z\" fill=\"#000000\" fill-rule=\"evenodd\" fill-opacity=\"1\" /><path clip-path=\"url(#clip880)\" d=\"M141.177 145.005 L129.371 163.454 L141.177 163.454 L141.177 145.005 M139.95 140.931 L145.83 140.931 L145.83 163.454 L150.76 163.454 L150.76 167.343 L145.83 167.343 L145.83 175.491 L141.177 175.491 L141.177 167.343 L125.575 167.343 L125.575 162.829 L139.95 140.931 Z\" fill=\"#000000\" fill-rule=\"evenodd\" fill-opacity=\"1\" /><polyline clip-path=\"url(#clip882)\" style=\"stroke:#009af9; stroke-linecap:butt; stroke-linejoin:round; stroke-width:4; stroke-opacity:1; fill:none\" points=\"\n",
       "  248.062,87.9763 475.105,694.918 702.149,645.548 929.193,846.252 1156.24,1048.65 1383.28,1128.32 1610.32,1030.01 1837.37,995.882 2064.41,1324.78 2291.45,1445.72 \n",
       "  \n",
       "  \"/>\n",
       "<path clip-path=\"url(#clip880)\" d=\"\n",
       "M1987.46 216.178 L2280.56 216.178 L2280.56 95.2176 L1987.46 95.2176  Z\n",
       "  \" fill=\"#ffffff\" fill-rule=\"evenodd\" fill-opacity=\"1\"/>\n",
       "<polyline clip-path=\"url(#clip880)\" style=\"stroke:#000000; stroke-linecap:butt; stroke-linejoin:round; stroke-width:4; stroke-opacity:1; fill:none\" points=\"\n",
       "  1987.46,216.178 2280.56,216.178 2280.56,95.2176 1987.46,95.2176 1987.46,216.178 \n",
       "  \"/>\n",
       "<polyline clip-path=\"url(#clip880)\" style=\"stroke:#009af9; stroke-linecap:butt; stroke-linejoin:round; stroke-width:4; stroke-opacity:1; fill:none\" points=\"\n",
       "  2011.53,155.698 2155.93,155.698 \n",
       "  \"/>\n",
       "<path clip-path=\"url(#clip880)\" d=\"M2193.84 175.385 Q2192.03 180.015 2190.32 181.427 Q2188.6 182.839 2185.73 182.839 L2182.33 182.839 L2182.33 179.274 L2184.83 179.274 Q2186.59 179.274 2187.56 178.44 Q2188.53 177.607 2189.71 174.505 L2190.48 172.561 L2179.99 147.052 L2184.51 147.052 L2192.61 167.329 L2200.71 147.052 L2205.22 147.052 L2193.84 175.385 Z\" fill=\"#000000\" fill-rule=\"evenodd\" fill-opacity=\"1\" /><path clip-path=\"url(#clip880)\" d=\"M2212.52 169.042 L2220.15 169.042 L2220.15 142.677 L2211.84 144.343 L2211.84 140.084 L2220.11 138.418 L2224.78 138.418 L2224.78 169.042 L2232.42 169.042 L2232.42 172.978 L2212.52 172.978 L2212.52 169.042 Z\" fill=\"#000000\" fill-rule=\"evenodd\" fill-opacity=\"1\" /></svg>\n"
      ]
     },
     "execution_count": 4,
     "metadata": {},
     "output_type": "execute_result"
    }
   ],
   "source": [
    "plot(IPRm)"
   ]
  },
  {
   "cell_type": "code",
   "execution_count": null,
   "metadata": {
    "collapsed": true,
    "jupyter": {
     "outputs_hidden": false,
     "source_hidden": false
    },
    "nteract": {
     "transient": {
      "deleting": false
     }
    }
   },
   "outputs": [],
   "source": []
  }
 ],
 "metadata": {
  "kernel_info": {
   "name": "python3"
  },
  "kernelspec": {
   "display_name": "Python 3",
   "language": "python",
   "name": "python3"
  },
  "language_info": {
   "codemirror_mode": {
    "name": "ipython",
    "version": 3
   },
   "file_extension": ".py",
   "mimetype": "text/x-python",
   "name": "python",
   "nbconvert_exporter": "python",
   "pygments_lexer": "ipython3",
   "version": "3.8.8"
  },
  "nteract": {
   "version": "0.28.0"
  }
 },
 "nbformat": 4,
 "nbformat_minor": 1
}
