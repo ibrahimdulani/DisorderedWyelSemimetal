{
 "cells": [
  {
   "cell_type": "code",
   "execution_count": 1,
   "id": "f2489e7a",
   "metadata": {
    "collapsed": true
   },
   "outputs": [],
   "source": [
    "using Random\n",
    "using Distributions\n",
    "using FFTW\n",
    "using LinearAlgebra \n",
    "using Arpack \n",
    "using Plots\n",
    "using LaTeXStrings"
   ]
  },
  {
   "cell_type": "code",
   "execution_count": 2,
   "id": "30897c82",
   "metadata": {
    "collapsed": true
   },
   "outputs": [],
   "source": [
    "#sigma=0.1; \n",
    "theta=0.5;  #the twist\n",
    "Nreal=1000;  #number of samples \n",
    "\n",
    "tk(n,sig,ll,th)=-sign(cos(2.0*pi*n/ll+th/ll))*abs(cos(2.0*pi*n/ll+th/ll))^sig; #k-space Hamiltonian"
   ]
  },
  {
   "cell_type": "code",
   "execution_count": 3,
   "id": "6bdd6533",
   "metadata": {
    "collapsed": true
   },
   "outputs": [],
   "source": [
    "Nbox=25;   #number of boxes (which should be selected such that L/Nbox must be integer)\n",
    "q = 0.4;        #exponent in generalized inverse participation ratio \n",
    "NW = 20;    # number of disorder strengths\n",
    "ws=0.05;    # step size of disorder strength \n",
    "\n",
    "\n",
    "## function to find intersection\n",
    "\n",
    "function find_intersect(a,b,c,d)\n",
    "    \n",
    "    k1 = (b[2]-a[2])/(b[1]-a[1]);        #slope of line 1\n",
    "    \n",
    "    k2 = (d[2]-c[2])/(d[1]-c[1]);        #slope of line 2\n",
    "    \n",
    "    x = ((c[2]-a[2])+(k1*a[1]-k2*c[1]))/(k1-k2);   #x-coordinate of the intersection \n",
    "    \n",
    "    y = k1*(x - a[1]) + a[2];                      #y-coordinate of the intersection\n",
    "    \n",
    "    return [x,y] \n",
    "    \n",
    "end\n",
    "  \n",
    "\n",
    "Random.seed!(234) #setting the seed \n",
    "\n",
    "LL=[100,400]\n",
    "\n",
    "S=[0.1:0.4:0.9;]\n",
    "\n",
    "wc=zeros(length(S));\n",
    "\n",
    "for s in 1:length(S)\n",
    "    \n",
    "    sigma=S[s];\n",
    "\n",
    "    Alpha_q = zeros(NW,length(LL));\n",
    "\n",
    "    for l in 1:length(LL)\n",
    "\n",
    "        L=LL[l]; \n",
    "\n",
    "        lambda = (L/Nbox)/L;   #aspect ratio\n",
    "\n",
    "        alpha_q = zeros(NW);\n",
    "\n",
    "\n",
    "        for w in 1:NW\n",
    "\n",
    "            W=ws*w\n",
    "\n",
    "    #         dis=Normal(0.0, W) \n",
    "\n",
    "\n",
    "            Rq=zeros(Nreal);\n",
    "            Sq=zeros(Nreal);\n",
    "\n",
    "            for ireal in 1:Nreal \n",
    "\n",
    "    #             Vx=rand(dis,L);#generating random potential according to normal distribution\n",
    "                Vx = W.*randn(L)\n",
    "                Vk=fft(Vx)/L;        #Fourier transform of random potential\n",
    "    #            Vk=fftshift(Vk);   #moving the zero potential to the center of the spectrum \n",
    "                Vkk=sum(Vx);       #diagonal element of V_{k,k'}\n",
    "\n",
    "                Ham=zeros(Complex{Float64},L,L);          #initializing the Hamiltonian matrix with zeros\n",
    "    #            vecs=zeros(Complex{Float64},L,L);         #initializaing the eigenvectors with zeros \n",
    "\n",
    "                for i in 1:L\n",
    "                   for j in 1:L\n",
    "                       if i==j\n",
    "                           Ham[i,j]=tk(i,sigma,L,theta) #+ Vkk/L\n",
    "                       elseif i<j\n",
    "                           Ham[i,j]=Vk[j-i+1]\n",
    "                       else\n",
    "                           Ham[i,j]=conj(Vk[i-j+1])\n",
    "                        end\n",
    "                    end\n",
    "                end\n",
    "\n",
    "                en0, evec0=eigs(Ham,nev=1,which=:SM); \n",
    "\n",
    "                Nr = sum(abs.(evec0).^2);   #normalization\n",
    "\n",
    "                mu=zeros(Nbox);    \n",
    "                for k in 1:Nbox\n",
    "                    mu[k]=sum(abs.(evec0[((k-1)*div(L,Nbox))+1:k*div(L,Nbox)]).^2)/Nr;\n",
    "                end\n",
    "\n",
    "                #alpha=mu./(log(lambda)); \n",
    "\n",
    "                Rq0=sum(mu.^q);\n",
    "                Sq0=sum((mu.^q).*(log.(mu))); \n",
    "\n",
    "                Rq[ireal]=Rq0;\n",
    "                Sq[ireal]=Sq0;\n",
    "            end\n",
    "\n",
    "            alpha_q0=(sum(Sq)/Nreal)/((sum(Rq)/Nreal)*log(lambda)); \n",
    "\n",
    "            alpha_q[w]=alpha_q0; \n",
    "\n",
    "        end\n",
    "\n",
    "        Alpha_q[:,l] = alpha_q;\n",
    "\n",
    "    end\n",
    "    \n",
    "    if Alpha_q[:,1][1]<=Alpha_q[:,2][1]\n",
    "        bc = maximum(findall(x->x==0, (Alpha_q[:,1]-Alpha_q[:,2]).>0))\n",
    "        ac = bc+1 \n",
    "    else \n",
    "        bc = maximum(findall(x->x==1, (Alpha_q[:,1]-Alpha_q[:,2]).>0))\n",
    "        ac = bc+1\n",
    "    end\n",
    "    \n",
    "    x0, y0 = find_intersect([ws*bc,Alpha_q[:,1][bc]],[ws*ac,Alpha_q[:,1][ac]],[ws*bc,Alpha_q[:,2][bc]],[ws*ac,Alpha_q[:,2][ac]])\n",
    "    \n",
    "    wc[s]=x0;\n",
    "\n",
    "end    "
   ]
  },
  {
   "cell_type": "code",
   "execution_count": 19,
   "id": "ac8a58a7",
   "metadata": {
    "scrolled": false
   },
   "outputs": [
    {
     "data": {
      "image/png": "[encoded data removed]"
     },
     "execution_count": 19,
     "metadata": {},
     "output_type": "execute_result"
    }
   ],
   "source": [
    "plot(S,wc,xlabel=L\"\\sigma\",ylabel='W',fmt = :png, guidefont=font(16),\n",
    "    legend=:topleft,label=L\"q=0.4\")"
   ]
  },
  {
   "cell_type": "code",
   "execution_count": 12,
   "id": "8d5a12dd",
   "metadata": {},
   "outputs": [
    {
     "data": {
      "text/plain": [
       "0.2793812980861432"
      ]
     },
     "execution_count": 12,
     "metadata": {},
     "output_type": "execute_result"
    }
   ],
   "source": [
    "wc[1]"
   ]
  },
  {
   "cell_type": "code",
   "execution_count": 9,
   "id": "e160468a",
   "metadata": {},
   "outputs": [
    {
     "data": {
      "text/plain": [
       "0.1403101231454281"
      ]
     },
     "execution_count": 9,
     "metadata": {},
     "output_type": "execute_result"
    }
   ],
   "source": [
    "wc[2]"
   ]
  },
  {
   "cell_type": "code",
   "execution_count": 10,
   "id": "cf137c7e",
   "metadata": {},
   "outputs": [
    {
     "data": {
      "text/plain": [
       "0.9481689440713841"
      ]
     },
     "execution_count": 10,
     "metadata": {},
     "output_type": "execute_result"
    }
   ],
   "source": [
    "wc[3]"
   ]
  },
  {
   "cell_type": "code",
   "execution_count": 13,
   "id": "dc5ee7d4",
   "metadata": {},
   "outputs": [
    {
     "data": {
      "text/plain": [
       "0.9"
      ]
     },
     "execution_count": 13,
     "metadata": {},
     "output_type": "execute_result"
    }
   ],
   "source": [
    "S[3]"
   ]
  },
  {
   "cell_type": "code",
   "execution_count": null,
   "id": "a8d8875a",
   "metadata": {},
   "outputs": [],
   "source": []
  }
 ],
 "metadata": {
  "kernelspec": {
   "display_name": "Julia 1.6.1",
   "language": "julia",
   "name": "julia-1.6"
  },
  "language_info": {
   "file_extension": ".jl",
   "mimetype": "application/julia",
   "name": "julia",
   "version": "1.6.1"
  }
 },
 "nbformat": 4,
 "nbformat_minor": 5
}
